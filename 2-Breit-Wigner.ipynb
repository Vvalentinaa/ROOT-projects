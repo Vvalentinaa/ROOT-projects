{
 "cells": [
  {
   "cell_type": "code",
   "execution_count": 35,
   "id": "33fe8a00",
   "metadata": {},
   "outputs": [],
   "source": [
    "%jsroot off"
   ]
  },
  {
   "cell_type": "code",
   "execution_count": 1,
   "id": "3a9e22d5",
   "metadata": {},
   "outputs": [],
   "source": [
    "void format_line(TAttLine* line,int col,int sty){\n",
    "line->SetLineWidth(5); line->SetLineColor(col);\n",
    "line->SetLineStyle(sty);}"
   ]
  },
  {
   "cell_type": "markdown",
   "id": "47c0a667",
   "metadata": {},
   "source": [
    "### Функция Брейта-Вигнера:\n",
    "$$\\sigma(E; \\Gamma, M, A) = A \\dfrac{(\\Gamma/4)^2}{(E - M)^2 + (\\Gamma/2)^2}$$\n",
    "Обращением функции распределения получается функция:\n",
    "$$E = M + \\dfrac{\\Gamma}{2} tg(\\dfrac{8u}{\\Gamma A} - \\dfrac{\\pi}{2})$$, где u ~ U(0, 1)"
   ]
  },
  {
   "cell_type": "code",
   "execution_count": 2,
   "id": "46b64c64",
   "metadata": {},
   "outputs": [],
   "source": [
    "// density\n",
    "double the_breit_wigner(double* vars, double* pars)\n",
    "{\n",
    "    return pars[2] * pow(pars[0]/4,2) / (pow(vars[0] - pars[1],2) + pow(pars[0]/2,2));\n",
    "}"
   ]
  },
  {
   "cell_type": "code",
   "execution_count": 3,
   "id": "bde5d95f",
   "metadata": {},
   "outputs": [],
   "source": [
    "// inverse function\n",
    "double the_inv_bw(double* vars, double* pars)\n",
    "{\n",
    "    return pars[1] + pars[0]/2 * std::tan(8 * vars[0]/pars[0]/pars[2]- M_PI/2);\n",
    "}"
   ]
  },
  {
   "cell_type": "code",
   "execution_count": 4,
   "id": "97b9c162",
   "metadata": {},
   "outputs": [],
   "source": [
    "auto canvas = new TCanvas(\"canvas\",\"canvas\");\n",
    "gStyle->SetOptTitle(0); gStyle->SetOptStat(0);\n",
    "gStyle->SetOptFit(1111); gStyle->SetStatBorderSize(0);\n",
    "gStyle->SetStatX(.89); gStyle->SetStatY(.89);"
   ]
  },
  {
   "cell_type": "code",
   "execution_count": 5,
   "id": "4b135630",
   "metadata": {},
   "outputs": [],
   "source": [
    "// initial parameters\n",
    "double G = 0.02; // GeV\n",
    "double M = 0.497; // GeV\n",
    "double A = 1;\n",
    "double rbound = M * 2;\n",
    "TF1 breit_wigner(\"breit_wigner\", the_breit_wigner, 0, rbound, 3);\n",
    "TF1 inv_bw(\"inv_bw\", the_inv_bw, 0, rbound, 3);\n",
    "breit_wigner.SetParameters(G, M, A);\n",
    "inv_bw.SetParameters(G, M, A);\n",
    "breit_wigner.SetParNames(\"G\", \"M\", \"A\");\n",
    "inv_bw.SetParNames(\"G\", \"M\", \"A\");"
   ]
  },
  {
   "cell_type": "code",
   "execution_count": 6,
   "id": "baa7f850",
   "metadata": {},
   "outputs": [
    {
     "data": {
      "image/png": "[encoded data removed]",
      "text/plain": [
       "<IPython.core.display.Image object>"
      ]
     },
     "metadata": {},
     "output_type": "display_data"
    }
   ],
   "source": [
    "TH1F hist(\"hist\", \"Title\", 100, -0, rbound);\n",
    "hist.SetTitle(\"Histogram title; E(K_s 0); N\");\n",
    "\n",
    "hist.SetMarkerStyle(8);\n",
    "\n",
    "TRandom rnd;\n",
    "\n",
    "for (auto i = 1; i < 1000; i++) \n",
    "{\n",
    "    double u = rnd.Rndm();\n",
    "    double sample = inv_bw(u);\n",
    "    hist.Fill(inv_bw(u));\n",
    "}\n",
    "hist.Draw();\n",
    "canvas->SetTitle(\"title\");\n",
    "canvas->Draw();"
   ]
  },
  {
   "cell_type": "code",
   "execution_count": 7,
   "id": "9e4b5d87",
   "metadata": {},
   "outputs": [
    {
     "name": "stdout",
     "output_type": "stream",
     "text": [
      " FCN=48.6088 FROM MIGRAD    STATUS=CONVERGED     375 CALLS         376 TOTAL\n",
      "                     EDM=6.05042e-08    STRATEGY= 1      ERROR MATRIX ACCURATE \n",
      "  EXT PARAMETER                                   STEP         FIRST   \n",
      "  NO.   NAME      VALUE            ERROR          SIZE      DERIVATIVE \n",
      "   1  G            1.82604e-02   9.31162e-04   1.71898e-06   3.88591e-01\n",
      "   2  M            4.97419e-01   3.91004e-04   1.34041e-06  -4.56310e-01\n",
      "   3  A            1.34492e+03   8.17749e+01   1.51161e-01   1.19206e-06\n"
     ]
    }
   ],
   "source": [
    "auto fitResPtr = hist.Fit(&breit_wigner, \"S\");"
   ]
  },
  {
   "cell_type": "code",
   "execution_count": 8,
   "id": "9816431a",
   "metadata": {},
   "outputs": [
    {
     "name": "stdout",
     "output_type": "stream",
     "text": [
      "\n",
      "****************************************\n",
      "Minimizer is Minuit / Migrad\n",
      "Chi2                      =      48.6088\n",
      "NDf                       =           50\n",
      "Edm                       =  6.05042e-08\n",
      "NCalls                    =          376\n",
      "G                         =    0.0182604   +/-   0.000931162 \n",
      "M                         =     0.497419   +/-   0.000391004 \n",
      "A                         =      1344.92   +/-   81.7749     \n"
     ]
    }
   ],
   "source": [
    "fitResPtr->Print();"
   ]
  },
  {
   "cell_type": "code",
   "execution_count": 9,
   "id": "b7d2e279",
   "metadata": {},
   "outputs": [
    {
     "data": {
      "image/png": "[encoded data removed]",
      "text/plain": [
       "<IPython.core.display.Image object>"
      ]
     },
     "metadata": {},
     "output_type": "display_data"
    }
   ],
   "source": [
    "hist.Draw();\n",
    "canvas->Draw();"
   ]
  }
 ],
 "metadata": {
  "kernelspec": {
   "display_name": "ROOT C++",
   "language": "c++",
   "name": "root"
  },
  "language_info": {
   "codemirror_mode": "text/x-c++src",
   "file_extension": ".C",
   "mimetype": " text/x-c++src",
   "name": "c++"
  }
 },
 "nbformat": 4,
 "nbformat_minor": 5
}
