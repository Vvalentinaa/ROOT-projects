{
 "cells": [
  {
   "cell_type": "code",
   "execution_count": 1,
   "id": "b618ee60",
   "metadata": {},
   "outputs": [],
   "source": [
    "#include \"TCanvas.h\"\n",
    "#include \"TROOT.h\"\n",
    "#include \"TGraphErrors.h\"\n",
    "#include \"TF1.h\"\n",
    "#include \"TLegend.h\"\n",
    "#include \"TLatex.h\"\n",
    "#include \"TRandom.h\"     \n",
    "#include \"TH1F.h\"      \n",
    "#include \"TFile.h\"\n",
    "\n",
    "#include <math.h>\n",
    "#include <cmath>"
   ]
  },
  {
   "cell_type": "code",
   "execution_count": 1,
   "id": "5efe19dc",
   "metadata": {},
   "outputs": [],
   "source": [
    "%jsroot on"
   ]
  },
  {
   "cell_type": "code",
   "execution_count": 58,
   "id": "3e4b33b1",
   "metadata": {},
   "outputs": [
    {
     "name": "stderr",
     "output_type": "stream",
     "text": [
      "\u001b[1minput_line_204:12:10: \u001b[0m\u001b[0;1;31merror: \u001b[0m\u001b[1mno matching member function for call to 'SetParameters'\u001b[0m\n",
      "exp_func.SetParameters(&par_tau, 1);\n",
      "\u001b[0;1;32m~~~~~~~~~^~~~~~~~~~~~~\n",
      "\u001b[0m\u001b[1m/home/valentina/anaconda3/envs/root_env/include/TF1.h:649:21: \u001b[0m\u001b[0;1;30mnote: \u001b[0mcandidate function not viable: no known conversion from 'const Double_t *' (aka 'const double *') to 'Double_t' (aka 'double') for 1st argument; remove &\u001b[0m\n",
      "   virtual void     SetParameters(Double_t p0, Double_t p1, Double_t p2 = 0, Double_t p3 = 0, Double_t p4 = 0,\n",
      "\u001b[0;1;32m                    ^\n",
      "\u001b[0m\u001b[1m/home/valentina/anaconda3/envs/root_env/include/TF1.h:644:21: \u001b[0m\u001b[0;1;30mnote: \u001b[0mcandidate function not viable: requires single argument 'params', but 2 arguments were provided\u001b[0m\n",
      "   virtual void     SetParameters(const Double_t *params)\n",
      "\u001b[0;1;32m                    ^\n",
      "\u001b[0m"
     ]
    }
   ],
   "source": [
    "double tau = 8;\n",
    "int n = 10000;\n",
    "\n",
    "\n",
    "auto hist1 = new TH1F (\"hist1\", \"histogram_1\", 100, 0, 50);\n",
    "auto hist2 = new TH1F (\"hist2\", \"histogram_2\", 100, 0, 50);\n",
    "    \n",
    "TRandom3 rnd;\n",
    "TF1 exp_func(\"exp_func\", the_exp_func, 0, 50, 2);\n",
    "const Double_t par_tau = tau;\n",
    "exp_func.SetParameters(&par_tau, 1);\n",
    "exp_func.SetParNames(\"Tau\", \"A\");\n",
    "for (int i = 0; i < n; i++)\n",
    "{\n",
    "    double r = rnd.Rndm();\n",
    "    double log_sample = -tau * log(r);\n",
    "    double exp_sample = 1/tau * rnd.Exp(tau);\n",
    "    hist1->Fill(exp_func.GetRandom());\n",
    "    hist2->Fill(log_sample);\n",
    "}\n",
    "auto canvas = new TCanvas();\n",
    "\n",
    "hist1->SetLineColor(kRed);\n",
    "hist1->SetFillStyle(0);\n",
    "hist2->SetLineColor(kBlue);\n",
    "hist2->SetFillStyle(0);\n",
    "hist2->DrawNormalized();\n",
    "hist1->Fit(\"exp_func\");    \n",
    "\n",
    "//TCanvas c(\"Histograms\",\"Title\", 0, 10);\n",
    "canvas->SetGrid();\n",
    "//hist1->Draw();\n",
    "//hist2->Draw(\"SAME\");\n",
    "//hist2->Fit(\"expo\", \"S\");\n",
    "//hist1->Fit(\"expo\", \"+\");\n",
    "\n",
    "canvas->Draw();"
   ]
  },
  {
   "cell_type": "code",
   "execution_count": 59,
   "id": "6ad95712",
   "metadata": {},
   "outputs": [],
   "source": [
    "Double_t the_exp_func(Double_t *var, Double_t *par)\n",
    "{\n",
    "    return par[1] * TMath::Exp(-var[0]/par[0]);\n",
    "    //return TMath::Exp(-var[0]/par[0]);\n",
    "\n",
    "}"
   ]
  },
  {
   "cell_type": "markdown",
   "id": "78d791dc",
   "metadata": {},
   "source": [
    "Построим две гистограммы: \n",
    "1. Экспоненциального распределения:\n",
    "$$f(t; \\tau) = \\exp{(-\\dfrac{t}{\\tau})}$$\n",
    "2. Основаную на выборке, полученной из \"обращения\" функции экспоненциального распределения:\n",
    "$$t(u) = -\\tau \\ln{u} $$ где $u$ ~ $U(0, 1)$\n",
    "Увидим, что они распределены одинаково (согласно теореме). Фитируем их встроенной экпоненциальной функцией ($\"expo\" = \\exp{(p_0)} \\exp{(p_1 t)}$), построим гистограммы для выборок разного размера, пронаблюдаем за точностью приближения параметра $\\tau$."
   ]
  },
  {
   "cell_type": "code",
   "execution_count": 151,
   "id": "808cd40d",
   "metadata": {},
   "outputs": [],
   "source": [
    "// ЛОГ шкала ???\n",
    "// ФИТ \n",
    "// подписи осей (см. example.cpp)\n",
    "\n",
    "TFitResultPtr Decay(int n, double tau)\n",
    "{\n",
    "    double rbound = tau * 5;\n",
    "    auto hist1 = new TH1F (\"hist1\", \"Exponential distribution\", 100, 0, rbound);\n",
    "    auto hist2 = new TH1F (\"hist2\", \"Inverse Transformed\", 100, 0, rbound);\n",
    "    \n",
    "    TRandom3 rnd;\n",
    "    TF1 exp_func(\"exp_func\", the_exp_func, 0, rbound, 1);\n",
    "    const Double_t par_tau = tau;\n",
    "    exp_func.SetParameters(&par_tau);\n",
    "    exp_func.SetParNames(\"Tau\");\n",
    "    for (int i = 0; i < n; i++)\n",
    "    {\n",
    "        double r = rnd.Rndm();\n",
    "        double log_sample = -tau * log(r);\n",
    "        double exp_sample = rnd.Exp(tau);\n",
    "        hist1->Fill(exp_sample);\n",
    "        hist2->Fill(log_sample);\n",
    "    }\n",
    "    hist1->SetLineColor(kBlue);\n",
    "    hist1->SetFillStyle(0);\n",
    "    hist2->SetLineColor(kRed);\n",
    "    hist1->SetFillStyle(0);\n",
    "    hist1->Draw();\n",
    "    //hist1->Fit(\"expo\", \"Q\");    \n",
    "\n",
    "    hist2->Draw(\"SAME\");\n",
    "    //exp_func.Draw(\"Same\");\n",
    "    TFitResultPtr fitRes = hist2->Fit(\"expo\", \"S\");\n",
    "    return fitRes;\n",
    "    \n",
    "}"
   ]
  },
  {
   "cell_type": "markdown",
   "id": "ff3b41e7",
   "metadata": {},
   "source": [
    "### распад $ K^0_s$"
   ]
  },
  {
   "cell_type": "code",
   "execution_count": 155,
   "id": "c9f626c3",
   "metadata": {},
   "outputs": [
    {
     "data": {
      "image/png": "[encoded data removed]",
      "text/plain": [
       "<IPython.core.display.Image object>"
      ]
     },
     "metadata": {},
     "output_type": "display_data"
    },
    {
     "name": "stdout",
     "output_type": "stream",
     "text": [
      " FCN=91.0773 FROM MIGRAD    STATUS=CONVERGED      67 CALLS          68 TOTAL\n",
      "                     EDM=2.85879e-09    STRATEGY= 1      ERROR MATRIX ACCURATE \n",
      "  EXT PARAMETER                                   STEP         FIRST   \n",
      "  NO.   NAME      VALUE            ERROR          SIZE      DERIVATIVE \n",
      "   1  Constant     3.94626e+00   5.04921e-02   1.55968e-04   1.56196e-03\n",
      "   2  Slope       -4.23085e-01   1.67904e-02   5.18440e-05   2.62044e-04\n",
      "\n",
      "\n",
      " For sample size = 1000 : tau = 2.36359\n",
      "\n",
      "\n",
      " FCN=101.927 FROM MIGRAD    STATUS=CONVERGED      58 CALLS          59 TOTAL\n",
      "                     EDM=2.73696e-10    STRATEGY= 1      ERROR MATRIX ACCURATE \n",
      "  EXT PARAMETER                                   STEP         FIRST   \n",
      "  NO.   NAME      VALUE            ERROR          SIZE      DERIVATIVE \n",
      "   1  Constant     6.22474e+00   1.45710e-02   4.99658e-05   1.96996e-03\n",
      "   2  Slope       -3.80528e-01   4.12822e-03   1.41564e-05   2.02586e-03\n",
      "\n",
      "\n",
      " For sample size = 10 000 : tau = 2.62793\n",
      "\n",
      "\n",
      " FCN=86.8694 FROM MIGRAD    STATUS=CONVERGED      44 CALLS          45 TOTAL\n",
      "                     EDM=4.58811e-13    STRATEGY= 1      ERROR MATRIX ACCURATE \n",
      "  EXT PARAMETER                                   STEP         FIRST   \n",
      "  NO.   NAME      VALUE            ERROR          SIZE      DERIVATIVE \n",
      "   1  Constant     8.52061e+00   4.62200e-03   1.45275e-05   5.23707e-05\n",
      "   2  Slope       -3.74070e-01   1.29986e-03   4.08560e-06   8.61135e-04\n",
      "\n",
      "\n",
      " For sample size = 100 000 : tau = 2.67329\n",
      "\n",
      "\n",
      " FCN=61.0285 FROM MIGRAD    STATUS=CONVERGED      35 CALLS          36 TOTAL\n",
      "                     EDM=9.4153e-09    STRATEGY= 1      ERROR MATRIX ACCURATE \n",
      "  EXT PARAMETER                                   STEP         FIRST   \n",
      "  NO.   NAME      VALUE            ERROR          SIZE      DERIVATIVE \n",
      "   1  Constant     1.08192e+01   1.46307e-03   5.15902e-06  -1.23682e-01\n",
      "   2  Slope       -3.72290e-01   4.10284e-04   1.08200e-06  -4.63744e-01\n",
      "\n",
      "\n",
      " For sample size = 1 000 000 : tau = 2.68608\n",
      "\n",
      "\n"
     ]
    },
    {
     "name": "stderr",
     "output_type": "stream",
     "text": [
      "Warning in <TCanvas::Constructor>: Deleting canvas with same name: canvas1\n",
      "Warning in <TROOT::Append>: Replacing existing TH1: hist1 (Potential memory leak).\n",
      "Warning in <TROOT::Append>: Replacing existing TH1: hist2 (Potential memory leak).\n",
      "Warning in <TROOT::Append>: Replacing existing TH1: hist1 (Potential memory leak).\n",
      "Warning in <TROOT::Append>: Replacing existing TH1: hist2 (Potential memory leak).\n",
      "Warning in <TROOT::Append>: Replacing existing TH1: hist1 (Potential memory leak).\n",
      "Warning in <TROOT::Append>: Replacing existing TH1: hist2 (Potential memory leak).\n",
      "Warning in <TROOT::Append>: Replacing existing TH1: hist1 (Potential memory leak).\n",
      "Warning in <TROOT::Append>: Replacing existing TH1: hist2 (Potential memory leak).\n"
     ]
    }
   ],
   "source": [
    "double tau1 = 2.6842; // cm\n",
    "\n",
    "TCanvas canvas1 = new TCanvas(\"canvas1\",\"canvas1\", 100, 100);\n",
    "canvas1.Divide(2,2);\n",
    "\n",
    "canvas1.cd(1);\n",
    "fval1 = Decay(1000, tau1);\n",
    "std::cout << \"\\n\\n For sample size = 1000 : tau = \" << -1/fval1->Value(1)  << \"\\n\\n\" << std::endl;\n",
    "\n",
    "canvas1.cd(2);\n",
    "fval2 = Decay(10000, tau1);\n",
    "std::cout << \"\\n\\n For sample size = 10 000 : tau = \" << -1/fval2->Value(1)  << \"\\n\\n\" << std::endl;\n",
    "\n",
    "canvas1.cd(3);\n",
    "fval3 = Decay(100000, tau1);\n",
    "std::cout << \"\\n\\n For sample size = 100 000 : tau = \" << -1/fval3->Value(1)  << \"\\n\\n\" << std::endl;\n",
    "\n",
    "canvas1.cd(4);\n",
    "fval4 = Decay(1000000, tau1);\n",
    "std::cout << \"\\n\\n For sample size = 1 000 000 : tau = \" << -1/fval4->Value(1)  << \"\\n\\n\" << std::endl;\n",
    "\n",
    "\n",
    "canvas1.Draw();"
   ]
  },
  {
   "cell_type": "markdown",
   "id": "bbac8eef",
   "metadata": {},
   "source": [
    "### распад $\\Lambda, \\bar\\Lambda$"
   ]
  },
  {
   "cell_type": "code",
   "execution_count": 146,
   "id": "3c732eb0",
   "metadata": {},
   "outputs": [
    {
     "data": {
      "image/png": "[encoded data removed]",
      "text/plain": [
       "<IPython.core.display.Image object>"
      ]
     },
     "metadata": {},
     "output_type": "display_data"
    },
    {
     "name": "stdout",
     "output_type": "stream",
     "text": [
      " FCN=91.0773 FROM MIGRAD    STATUS=CONVERGED      67 CALLS          68 TOTAL\n",
      "                     EDM=2.85878e-09    STRATEGY= 1      ERROR MATRIX ACCURATE \n",
      "  EXT PARAMETER                                   STEP         FIRST   \n",
      "  NO.   NAME      VALUE            ERROR          SIZE      DERIVATIVE \n",
      "   1  Constant     3.94626e+00   5.04921e-02   1.55968e-04   1.56196e-03\n",
      "   2  Slope       -1.43935e-01   5.71212e-03   1.76375e-05   7.70288e-04\n",
      "\n",
      "\n",
      " For sample size = 1000 : tau = 6.9476\n",
      "\n",
      "\n",
      " FCN=101.927 FROM MIGRAD    STATUS=CONVERGED      58 CALLS          59 TOTAL\n",
      "                     EDM=2.73697e-10    STRATEGY= 1      ERROR MATRIX ACCURATE \n",
      "  EXT PARAMETER                                   STEP         FIRST   \n",
      "  NO.   NAME      VALUE            ERROR          SIZE      DERIVATIVE \n",
      "   1  Constant     6.22474e+00   1.45710e-02   4.99658e-05   1.96996e-03\n",
      "   2  Slope       -1.29457e-01   1.40443e-03   4.81603e-06   5.95481e-03\n",
      "\n",
      "\n",
      " For sample size = 10 000 : tau = 7.7246\n",
      "\n",
      "\n",
      " FCN=86.8694 FROM MIGRAD    STATUS=CONVERGED      44 CALLS          45 TOTAL\n",
      "                     EDM=4.59133e-13    STRATEGY= 1      ERROR MATRIX ACCURATE \n",
      "  EXT PARAMETER                                   STEP         FIRST   \n",
      "  NO.   NAME      VALUE            ERROR          SIZE      DERIVATIVE \n",
      "   1  Constant     8.52061e+00   4.62200e-03   1.45275e-05   5.23095e-05\n",
      "   2  Slope       -1.27260e-01   4.42215e-04   1.38993e-06   2.53162e-03\n",
      "\n",
      "\n",
      " For sample size = 100 000 : tau = 7.85794\n",
      "\n",
      "\n",
      " FCN=61.0285 FROM MIGRAD    STATUS=CONVERGED      35 CALLS          36 TOTAL\n",
      "                     EDM=9.41544e-09    STRATEGY= 1      ERROR MATRIX ACCURATE \n",
      "  EXT PARAMETER                                   STEP         FIRST   \n",
      "  NO.   NAME      VALUE            ERROR          SIZE      DERIVATIVE \n",
      "   1  Constant     1.08192e+01   1.46307e-03   5.15902e-06  -1.23682e-01\n",
      "   2  Slope       -1.26654e-01   1.39580e-04   3.68099e-07  -1.36316e+00\n",
      "\n",
      "\n",
      " For sample size = 1 000 000 : tau = 7.89553\n",
      "\n",
      "\n"
     ]
    },
    {
     "name": "stderr",
     "output_type": "stream",
     "text": [
      "Warning in <TCanvas::Constructor>: Deleting canvas with same name: canvas1\n",
      "Warning in <TROOT::Append>: Replacing existing TH1: hist1 (Potential memory leak).\n",
      "Warning in <TROOT::Append>: Replacing existing TH1: hist2 (Potential memory leak).\n",
      "Warning in <TROOT::Append>: Replacing existing TH1: hist1 (Potential memory leak).\n",
      "Warning in <TROOT::Append>: Replacing existing TH1: hist2 (Potential memory leak).\n",
      "Warning in <TROOT::Append>: Replacing existing TH1: hist1 (Potential memory leak).\n",
      "Warning in <TROOT::Append>: Replacing existing TH1: hist2 (Potential memory leak).\n",
      "Warning in <TROOT::Append>: Replacing existing TH1: hist1 (Potential memory leak).\n",
      "Warning in <TROOT::Append>: Replacing existing TH1: hist2 (Potential memory leak).\n"
     ]
    }
   ],
   "source": [
    "double tau2 = 7.89; // cm\n",
    "\n",
    "TCanvas canvas1 = new TCanvas(\"canvas1\",\"canvas1\", 100, 100);\n",
    "canvas1.Divide(2,2);\n",
    "\n",
    "\n",
    "canvas1.cd(1);\n",
    "fval1 = Decay(1000, tau2);\n",
    "std::cout << \"\\n\\n For sample size = 1000 : tau = \" << -1/fval1->Value(1)  << \"\\n\\n\" << std::endl;\n",
    "\n",
    "canvas1.cd(2);\n",
    "fval2 = Decay(10000, tau2);\n",
    "std::cout << \"\\n\\n For sample size = 10 000 : tau = \" << -1/fval2->Value(1)  << \"\\n\\n\" << std::endl;\n",
    "\n",
    "canvas1.cd(3);\n",
    "fval3 = Decay(100000, tau2);\n",
    "std::cout << \"\\n\\n For sample size = 100 000 : tau = \" << -1/fval3->Value(1)  << \"\\n\\n\" << std::endl;\n",
    "\n",
    "canvas1.cd(4);\n",
    "fval4 = Decay(1000000, tau2);\n",
    "std::cout << \"\\n\\n For sample size = 1 000 000 : tau = \" << -1/fval4->Value(1)  << \"\\n\\n\" << std::endl;\n",
    "\n",
    "canvas1.Draw();"
   ]
  },
  {
   "cell_type": "markdown",
   "id": "adc81a02",
   "metadata": {},
   "source": [
    "Ясно, что с ростом размера выборки растет точность определения параметров распределения, гистограмма \"сглаживается\""
   ]
  }
 ],
 "metadata": {
  "kernelspec": {
   "display_name": "ROOT C++",
   "language": "c++",
   "name": "root"
  },
  "language_info": {
   "codemirror_mode": "text/x-c++src",
   "file_extension": ".C",
   "mimetype": " text/x-c++src",
   "name": "c++"
  }
 },
 "nbformat": 4,
 "nbformat_minor": 5
}
